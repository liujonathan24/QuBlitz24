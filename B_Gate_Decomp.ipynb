{
 "cells": [
  {
   "cell_type": "code",
   "execution_count": null,
   "metadata": {},
   "outputs": [],
   "source": [
    "import qiskit\n",
    "import numpy as np\n",
    "from qiskit import QuantumCircuit, QuantumRegister\n",
    "from qiskit.synthesis import TwoQubitWeylDecomposition \n",
    "from qiskit.quantum_info.operators import Operator\n",
    "from qiskit.quantum_info import random_unitary"
   ]
  },
  {
   "cell_type": "code",
   "execution_count": 51,
   "metadata": {},
   "outputs": [],
   "source": [
    "# creating a random unitary\n",
    "random_unitary = random_unitary(4)\n",
    "a_original = TwoQubitWeylDecomposition(random_unitary).a * 2 # Multiply by 2!\n",
    "b_original = TwoQubitWeylDecomposition(random_unitary).b * 2\n",
    "c_original = TwoQubitWeylDecomposition(random_unitary).c * 2\n"
   ]
  },
  {
   "cell_type": "code",
   "execution_count": 52,
   "metadata": {},
   "outputs": [],
   "source": [
    "# B gate: e^(i*pi* (2XX+YY)/4)) -> -pi/2 rotation about xx and -pi/4 rotation about yy\n",
    "b_gate = QuantumCircuit(2)\n",
    "b_gate.rxx(-np.pi/2, 0,1) \n",
    "b_gate.ryy(-np.pi/4,0,1) \n",
    "B = Operator(b_gate)"
   ]
  },
  {
   "cell_type": "code",
   "execution_count": 53,
   "metadata": {},
   "outputs": [],
   "source": [
    "# Defining a B-sandwich operator\n",
    "middle_rotations = [0]\n",
    "\n",
    "beta1 = np.arccos(1-4*((np.sin(b_original/2))**2)*((np.cos(c_original/2))**2)) # values from the linked paper: https://journals.aps.org/prl/pdf/10.1103/PhysRevLett.93.020502\n",
    "beta2 = np.arcsin(np.sqrt((np.cos(b_original)*np.cos(c_original))/(1-2*(np.sin(b_original/2))**2*(np.cos(c_original/2))**2)))\n",
    "\n",
    "def B_sandwich(b_gate, beta1, beta2): # includes phase correction\n",
    "    qr = QuantumRegister(2)\n",
    "    circ = QuantumCircuit(qr)\n",
    "    circ.append(b_gate, qr)\n",
    "    circ.ry((-1+2*(c_original < 0))*a_original,qr[0])\n",
    "    circ.rz(-beta2,qr[1])\n",
    "    circ.ry(-beta1,qr[1])\n",
    "    circ.rz(-beta2,qr[1])\n",
    "    # ^ a will have positive sign if c>0 and negative if c<0, meaning that phase is accounted for\n",
    "    circ.append(b_gate, qr)\n",
    "    return circ\n",
    "\n",
    "B_Sandwich_Gate = B_sandwich(b_gate, beta1, beta2)\n",
    "\n",
    "#create B sandwich operator\n",
    "B_Sandwich = Operator(B_Sandwich_Gate)"
   ]
  },
  {
   "cell_type": "code",
   "execution_count": 54,
   "metadata": {},
   "outputs": [],
   "source": [
    "# New coordinates\n",
    "a_experimental = TwoQubitWeylDecomposition(B_Sandwich).a * 2\n",
    "b_experimental = TwoQubitWeylDecomposition(B_Sandwich).b * 2\n",
    "c_experimental = TwoQubitWeylDecomposition(B_Sandwich).c * 2"
   ]
  },
  {
   "cell_type": "code",
   "execution_count": 55,
   "metadata": {},
   "outputs": [
    {
     "name": "stdout",
     "output_type": "stream",
     "text": [
      "Weyl Coordinates:\n",
      "Original Coordinates: (a,b,c) = 1.049, 0.981, -0.605\n",
      "Decomposed Coordinates: (a,b,c) = 1.049, 0.981, -0.605\n"
     ]
    }
   ],
   "source": [
    "print(\"Weyl Coordinates:\")\n",
    "print(f\"Original Coordinates: (a,b,c) = {a_original:.3f}, {b_original:.3f}, {c_original:.3f}\")\n",
    "print(f\"Decomposed Coordinates: (a,b,c) = {a_experimental:.3f}, {b_experimental:.3f}, {c_experimental:.3f}\")"
   ]
  }
 ],
 "metadata": {
  "kernelspec": {
   "display_name": "biocircuits",
   "language": "python",
   "name": "python3"
  },
  "language_info": {
   "codemirror_mode": {
    "name": "ipython",
    "version": 3
   },
   "file_extension": ".py",
   "mimetype": "text/x-python",
   "name": "python",
   "nbconvert_exporter": "python",
   "pygments_lexer": "ipython3",
   "version": "3.12.4"
  }
 },
 "nbformat": 4,
 "nbformat_minor": 2
}
